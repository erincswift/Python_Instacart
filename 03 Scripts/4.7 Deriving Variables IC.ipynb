{
 "cells": [
  {
   "cell_type": "markdown",
   "id": "a8fdf4ec",
   "metadata": {},
   "source": [
    "# Deriving New Variables"
   ]
  },
  {
   "cell_type": "markdown",
   "id": "1d183ddd",
   "metadata": {},
   "source": [
    "### Contents:\n",
    "#### Create product price flag\n",
    "#### Create flag for busiest days\n",
    "#### Create busiest hours flags"
   ]
  },
  {
   "cell_type": "markdown",
   "id": "e35c6b08",
   "metadata": {},
   "source": [
    "## 1.0 Import Libraries"
   ]
  },
  {
   "cell_type": "code",
   "execution_count": 1,
   "id": "e63c1bf8",
   "metadata": {},
   "outputs": [],
   "source": [
    "import pandas as pd\n",
    "import numpy as np\n",
    "import os"
   ]
  },
  {
   "cell_type": "markdown",
   "id": "d4bba279",
   "metadata": {},
   "source": [
    "## 2.0 Import Data"
   ]
  },
  {
   "cell_type": "code",
   "execution_count": 2,
   "id": "13f0c730",
   "metadata": {},
   "outputs": [],
   "source": [
    "#Create path for importing data\n",
    "project_path = r'C:\\Users\\Owner\\Documents\\Career Foundry\\Instacart Basket Analysis\\02 Data'\n",
    "#Import data\n",
    "df_orders_products = pd.read_pickle(os.path.join(project_path, '02 02 Prepared Data', 'orders_products_combined.pkl'),)\n"
   ]
  },
  {
   "cell_type": "code",
   "execution_count": 3,
   "id": "4c5d9ddb",
   "metadata": {},
   "outputs": [],
   "source": [
    "#Subset of orders due to size\n",
    "df_subset = df_orders_products[:1000000]"
   ]
  },
  {
   "cell_type": "code",
   "execution_count": 4,
   "id": "f073e2f0",
   "metadata": {},
   "outputs": [
    {
     "data": {
      "text/html": [
       "<div>\n",
       "<style scoped>\n",
       "    .dataframe tbody tr th:only-of-type {\n",
       "        vertical-align: middle;\n",
       "    }\n",
       "\n",
       "    .dataframe tbody tr th {\n",
       "        vertical-align: top;\n",
       "    }\n",
       "\n",
       "    .dataframe thead th {\n",
       "        text-align: right;\n",
       "    }\n",
       "</style>\n",
       "<table border=\"1\" class=\"dataframe\">\n",
       "  <thead>\n",
       "    <tr style=\"text-align: right;\">\n",
       "      <th></th>\n",
       "      <th>order_id</th>\n",
       "      <th>user_id</th>\n",
       "      <th>order_number</th>\n",
       "      <th>order_day_of_week</th>\n",
       "      <th>order_hour_of_day</th>\n",
       "      <th>days_since_prior_order</th>\n",
       "      <th>product_id</th>\n",
       "      <th>add_to_cart_order</th>\n",
       "      <th>reordered</th>\n",
       "      <th>product_name</th>\n",
       "      <th>aisle_id</th>\n",
       "      <th>department_id</th>\n",
       "      <th>prices</th>\n",
       "      <th>_merge</th>\n",
       "    </tr>\n",
       "  </thead>\n",
       "  <tbody>\n",
       "    <tr>\n",
       "      <th>0</th>\n",
       "      <td>2539329</td>\n",
       "      <td>1</td>\n",
       "      <td>1</td>\n",
       "      <td>2</td>\n",
       "      <td>8</td>\n",
       "      <td>NaN</td>\n",
       "      <td>196</td>\n",
       "      <td>1</td>\n",
       "      <td>0</td>\n",
       "      <td>Soda</td>\n",
       "      <td>77</td>\n",
       "      <td>7</td>\n",
       "      <td>9.0</td>\n",
       "      <td>both</td>\n",
       "    </tr>\n",
       "    <tr>\n",
       "      <th>1</th>\n",
       "      <td>2398795</td>\n",
       "      <td>1</td>\n",
       "      <td>2</td>\n",
       "      <td>3</td>\n",
       "      <td>7</td>\n",
       "      <td>15.0</td>\n",
       "      <td>196</td>\n",
       "      <td>1</td>\n",
       "      <td>1</td>\n",
       "      <td>Soda</td>\n",
       "      <td>77</td>\n",
       "      <td>7</td>\n",
       "      <td>9.0</td>\n",
       "      <td>both</td>\n",
       "    </tr>\n",
       "    <tr>\n",
       "      <th>2</th>\n",
       "      <td>473747</td>\n",
       "      <td>1</td>\n",
       "      <td>3</td>\n",
       "      <td>3</td>\n",
       "      <td>12</td>\n",
       "      <td>21.0</td>\n",
       "      <td>196</td>\n",
       "      <td>1</td>\n",
       "      <td>1</td>\n",
       "      <td>Soda</td>\n",
       "      <td>77</td>\n",
       "      <td>7</td>\n",
       "      <td>9.0</td>\n",
       "      <td>both</td>\n",
       "    </tr>\n",
       "    <tr>\n",
       "      <th>3</th>\n",
       "      <td>2254736</td>\n",
       "      <td>1</td>\n",
       "      <td>4</td>\n",
       "      <td>4</td>\n",
       "      <td>7</td>\n",
       "      <td>29.0</td>\n",
       "      <td>196</td>\n",
       "      <td>1</td>\n",
       "      <td>1</td>\n",
       "      <td>Soda</td>\n",
       "      <td>77</td>\n",
       "      <td>7</td>\n",
       "      <td>9.0</td>\n",
       "      <td>both</td>\n",
       "    </tr>\n",
       "    <tr>\n",
       "      <th>4</th>\n",
       "      <td>431534</td>\n",
       "      <td>1</td>\n",
       "      <td>5</td>\n",
       "      <td>4</td>\n",
       "      <td>15</td>\n",
       "      <td>28.0</td>\n",
       "      <td>196</td>\n",
       "      <td>1</td>\n",
       "      <td>1</td>\n",
       "      <td>Soda</td>\n",
       "      <td>77</td>\n",
       "      <td>7</td>\n",
       "      <td>9.0</td>\n",
       "      <td>both</td>\n",
       "    </tr>\n",
       "  </tbody>\n",
       "</table>\n",
       "</div>"
      ],
      "text/plain": [
       "   order_id  user_id  order_number  order_day_of_week  order_hour_of_day  \\\n",
       "0   2539329        1             1                  2                  8   \n",
       "1   2398795        1             2                  3                  7   \n",
       "2    473747        1             3                  3                 12   \n",
       "3   2254736        1             4                  4                  7   \n",
       "4    431534        1             5                  4                 15   \n",
       "\n",
       "   days_since_prior_order  product_id  add_to_cart_order  reordered  \\\n",
       "0                     NaN         196                  1          0   \n",
       "1                    15.0         196                  1          1   \n",
       "2                    21.0         196                  1          1   \n",
       "3                    29.0         196                  1          1   \n",
       "4                    28.0         196                  1          1   \n",
       "\n",
       "  product_name  aisle_id  department_id  prices _merge  \n",
       "0         Soda        77              7     9.0   both  \n",
       "1         Soda        77              7     9.0   both  \n",
       "2         Soda        77              7     9.0   both  \n",
       "3         Soda        77              7     9.0   both  \n",
       "4         Soda        77              7     9.0   both  "
      ]
     },
     "execution_count": 4,
     "metadata": {},
     "output_type": "execute_result"
    }
   ],
   "source": [
    "df_subset.head()"
   ]
  },
  {
   "cell_type": "markdown",
   "id": "d08b393a",
   "metadata": {},
   "source": [
    "## 3.0 Practice work"
   ]
  },
  {
   "cell_type": "markdown",
   "id": "a212da63",
   "metadata": {},
   "source": [
    "### 3.1 Create flag with If Else statement"
   ]
  },
  {
   "cell_type": "code",
   "execution_count": 5,
   "id": "cbec3572",
   "metadata": {},
   "outputs": [],
   "source": [
    "#Creating price_range flag\n",
    "def price_label(row):\n",
    "    if row['prices'] <= 5:\n",
    "        return 'Low-range product'\n",
    "    elif (row['prices'] > 5) and (row['prices'] <= 15):\n",
    "        return 'Mid-range product'\n",
    "    elif row['prices'] > 15:\n",
    "        return 'High-range product'\n",
    "    else:\n",
    "        return 'Price needed'\n",
    "        "
   ]
  },
  {
   "cell_type": "code",
   "execution_count": 6,
   "id": "e501300d",
   "metadata": {},
   "outputs": [
    {
     "name": "stderr",
     "output_type": "stream",
     "text": [
      "C:\\Users\\Owner\\AppData\\Local\\Temp\\ipykernel_14672\\718206258.py:2: SettingWithCopyWarning: \n",
      "A value is trying to be set on a copy of a slice from a DataFrame.\n",
      "Try using .loc[row_indexer,col_indexer] = value instead\n",
      "\n",
      "See the caveats in the documentation: https://pandas.pydata.org/pandas-docs/stable/user_guide/indexing.html#returning-a-view-versus-a-copy\n",
      "  df_subset['price_range'] = df_subset.apply(price_label, axis=1)\n"
     ]
    }
   ],
   "source": [
    "#Using price_label function\n",
    "df_subset['price_range'] = df_subset.apply(price_label, axis=1)"
   ]
  },
  {
   "cell_type": "code",
   "execution_count": 7,
   "id": "72bb899a",
   "metadata": {},
   "outputs": [
    {
     "data": {
      "text/plain": [
       "Mid-range product    756450\n",
       "Low-range product    243550\n",
       "Name: price_range, dtype: int64"
      ]
     },
     "execution_count": 7,
     "metadata": {},
     "output_type": "execute_result"
    }
   ],
   "source": [
    "#Frequency of each range\n",
    "df_subset['price_range'].value_counts(dropna = False)"
   ]
  },
  {
   "cell_type": "markdown",
   "id": "d9fde93a",
   "metadata": {},
   "source": [
    "### 3.2 Create flag with .loc() function"
   ]
  },
  {
   "cell_type": "code",
   "execution_count": 8,
   "id": "ce76d176",
   "metadata": {},
   "outputs": [
    {
     "name": "stderr",
     "output_type": "stream",
     "text": [
      "C:\\Users\\Owner\\AppData\\Local\\Temp\\ipykernel_14672\\3128535101.py:1: SettingWithCopyWarning: \n",
      "A value is trying to be set on a copy of a slice from a DataFrame.\n",
      "Try using .loc[row_indexer,col_indexer] = value instead\n",
      "\n",
      "See the caveats in the documentation: https://pandas.pydata.org/pandas-docs/stable/user_guide/indexing.html#returning-a-view-versus-a-copy\n",
      "  df_subset.loc[df_subset['prices'] > 15, 'price_range_loc'] = 'High-range product'\n"
     ]
    }
   ],
   "source": [
    "df_subset.loc[df_subset['prices'] > 15, 'price_range_loc'] = 'High-range product'"
   ]
  },
  {
   "cell_type": "code",
   "execution_count": 9,
   "id": "c8857371",
   "metadata": {},
   "outputs": [],
   "source": [
    "df_subset.loc[(df_subset['prices'] <= 15) & (df_subset['prices'] > 5), 'price_range_loc'] = 'Mid-range product'"
   ]
  },
  {
   "cell_type": "code",
   "execution_count": 10,
   "id": "518b52d0",
   "metadata": {},
   "outputs": [],
   "source": [
    "df_subset.loc[df_subset['prices'] <= 5, 'price_range_loc'] = 'Low-range product'"
   ]
  },
  {
   "cell_type": "code",
   "execution_count": 11,
   "id": "506bf49d",
   "metadata": {},
   "outputs": [
    {
     "data": {
      "text/plain": [
       "Mid-range product    756450\n",
       "Low-range product    243550\n",
       "Name: price_range_loc, dtype: int64"
      ]
     },
     "execution_count": 11,
     "metadata": {},
     "output_type": "execute_result"
    }
   ],
   "source": [
    "df_subset['price_range_loc'].value_counts(dropna = False)"
   ]
  },
  {
   "cell_type": "markdown",
   "id": "af90ccdd",
   "metadata": {},
   "source": [
    "### 3.3 Apply flag to full dataframe"
   ]
  },
  {
   "cell_type": "code",
   "execution_count": 12,
   "id": "32fe90b9",
   "metadata": {},
   "outputs": [],
   "source": [
    "df_orders_products.loc[df_orders_products['prices'] > 15, 'price_range'] = 'High-range product'"
   ]
  },
  {
   "cell_type": "code",
   "execution_count": 13,
   "id": "8ce368f1",
   "metadata": {},
   "outputs": [],
   "source": [
    "df_orders_products.loc[(df_orders_products['prices'] <= 15) & (df_orders_products['prices'] > 5), 'price_range'] = 'Mid-range product'"
   ]
  },
  {
   "cell_type": "code",
   "execution_count": 14,
   "id": "05f57bb0",
   "metadata": {},
   "outputs": [],
   "source": [
    "df_orders_products.loc[df_orders_products['prices'] <= 5, 'price_range'] = 'Low-range product'"
   ]
  },
  {
   "cell_type": "code",
   "execution_count": 15,
   "id": "5f76b862",
   "metadata": {},
   "outputs": [
    {
     "data": {
      "text/plain": [
       "Mid-range product     21860860\n",
       "Low-range product     10126321\n",
       "High-range product      417678\n",
       "Name: price_range, dtype: int64"
      ]
     },
     "execution_count": 15,
     "metadata": {},
     "output_type": "execute_result"
    }
   ],
   "source": [
    "#Frequency of each flag\n",
    "df_orders_products['price_range'].value_counts(dropna = False)"
   ]
  },
  {
   "cell_type": "markdown",
   "id": "be219d77",
   "metadata": {},
   "source": [
    "### 3.4 If loops"
   ]
  },
  {
   "cell_type": "code",
   "execution_count": 16,
   "id": "d55a9839",
   "metadata": {},
   "outputs": [
    {
     "data": {
      "text/plain": [
       "0    6204182\n",
       "1    5660230\n",
       "6    4496490\n",
       "2    4213830\n",
       "5    4205791\n",
       "3    3840534\n",
       "4    3783802\n",
       "Name: order_day_of_week, dtype: int64"
      ]
     },
     "execution_count": 16,
     "metadata": {},
     "output_type": "execute_result"
    }
   ],
   "source": [
    "#Find busiest day of week for sales\n",
    "# 0 = Saturday, 1 = Sunday, 2 = Monday, 3 = Tuesday, 4 = Wednesday, 5 = Thursday, 6 = Friday\n",
    "df_orders_products['order_day_of_week'].value_counts(dropna = False)"
   ]
  },
  {
   "cell_type": "code",
   "execution_count": 17,
   "id": "969bb64c",
   "metadata": {},
   "outputs": [],
   "source": [
    "#Assign create a list for day label based on day of the week\n",
    "result = []\n",
    "\n",
    "for value in df_orders_products['order_day_of_week']:\n",
    "    if value == 0:\n",
    "        result.append(\"Busiest day\")\n",
    "    elif value == 4:\n",
    "        result.append(\"Least busy\")\n",
    "    else:\n",
    "        result.append(\"Regularly busy\")\n",
    "        "
   ]
  },
  {
   "cell_type": "code",
   "execution_count": 18,
   "id": "21f4efaf",
   "metadata": {},
   "outputs": [],
   "source": [
    "#Add result to dataframe\n",
    "df_orders_products['busiest_day'] = result"
   ]
  },
  {
   "cell_type": "code",
   "execution_count": 19,
   "id": "e0be3eb7",
   "metadata": {},
   "outputs": [
    {
     "data": {
      "text/plain": [
       "Regularly busy    22416875\n",
       "Busiest day        6204182\n",
       "Least busy         3783802\n",
       "Name: busiest_day, dtype: int64"
      ]
     },
     "execution_count": 19,
     "metadata": {},
     "output_type": "execute_result"
    }
   ],
   "source": [
    "#Frequency of busiest day\n",
    "df_orders_products['busiest_day'].value_counts(dropna = False)"
   ]
  },
  {
   "cell_type": "markdown",
   "id": "40ba8fa7",
   "metadata": {},
   "source": [
    "## 4.0 Task "
   ]
  },
  {
   "cell_type": "markdown",
   "id": "c5a1e8e1",
   "metadata": {},
   "source": [
    "### 4.1 Create Groups for Order Days"
   ]
  },
  {
   "cell_type": "code",
   "execution_count": 20,
   "id": "429efd8f",
   "metadata": {},
   "outputs": [],
   "source": [
    "#Create a list for days scale\n",
    "grouped_result = []\n",
    "\n",
    "for value in df_orders_products['order_day_of_week']:\n",
    "    if value == 0 or value == 1:\n",
    "        grouped_result.append('Busiest Day')\n",
    "    elif value == 4 or value == 3:\n",
    "        grouped_result.append('Least Busy Day')\n",
    "    else: \n",
    "        grouped_result.append('Regularly Busy Day')\n",
    "        "
   ]
  },
  {
   "cell_type": "code",
   "execution_count": 21,
   "id": "ff3a348b",
   "metadata": {
    "scrolled": true
   },
   "outputs": [],
   "source": [
    "#Add results to dataframe\n",
    "df_orders_products['grouped_days'] = grouped_result"
   ]
  },
  {
   "cell_type": "code",
   "execution_count": 22,
   "id": "bcbb30e0",
   "metadata": {},
   "outputs": [
    {
     "data": {
      "text/plain": [
       "Regularly Busy Day    12916111\n",
       "Busiest Day           11864412\n",
       "Least Busy Day         7624336\n",
       "Name: grouped_days, dtype: int64"
      ]
     },
     "execution_count": 22,
     "metadata": {},
     "output_type": "execute_result"
    }
   ],
   "source": [
    "#Frequency of groupings\n",
    "df_orders_products['grouped_days'].value_counts(dropna = False)"
   ]
  },
  {
   "cell_type": "markdown",
   "id": "60bedd02",
   "metadata": {},
   "source": [
    "Of note in the results is that the two busiest days of the week, Saturday and Sunday, are within 10% of the three days of the week that are regularly busy.  Also, we know from this information that 40% of the Instacart orders are placed on Saturday and Sunday.  Conversely, the least popular days of the week, Tuesday and Wednesday, account for less than 24% of orders."
   ]
  },
  {
   "cell_type": "markdown",
   "id": "2eaed80d",
   "metadata": {},
   "source": [
    "### 4.2 Creating Busiest Hours of Day"
   ]
  },
  {
   "cell_type": "code",
   "execution_count": 23,
   "id": "04af8335",
   "metadata": {},
   "outputs": [
    {
     "data": {
      "text/plain": [
       "10    2761760\n",
       "11    2736140\n",
       "14    2689136\n",
       "15    2662144\n",
       "13    2660954\n",
       "12    2618532\n",
       "16    2535202\n",
       "9     2454203\n",
       "17    2087654\n",
       "8     1718118\n",
       "18    1636502\n",
       "19    1258305\n",
       "20     976156\n",
       "7      891054\n",
       "21     795637\n",
       "22     634225\n",
       "23     402316\n",
       "6      290493\n",
       "0      218769\n",
       "1      115700\n",
       "5       87961\n",
       "2       69375\n",
       "4       53242\n",
       "3       51281\n",
       "Name: order_hour_of_day, dtype: int64"
      ]
     },
     "execution_count": 23,
     "metadata": {},
     "output_type": "execute_result"
    }
   ],
   "source": [
    "#Determine which hours are busiest\n",
    "df_orders_products['order_hour_of_day'].value_counts(dropna = False)"
   ]
  },
  {
   "cell_type": "code",
   "execution_count": 24,
   "id": "1d627323",
   "metadata": {},
   "outputs": [],
   "source": [
    "#Create list for busiest hours\n",
    "hours_result = []\n",
    "\n",
    "for value in df_orders_products['order_hour_of_day']:\n",
    "    if value == 10:\n",
    "        hours_result.append('Most Orders')\n",
    "    elif value == 3:\n",
    "        hours_result.append('Fewest Orders')\n",
    "    else:\n",
    "        hours_result.append('Average Orders')"
   ]
  },
  {
   "cell_type": "code",
   "execution_count": 25,
   "id": "145abaa2",
   "metadata": {},
   "outputs": [],
   "source": [
    "#Add results to dataframe\n",
    "df_orders_products['busiest_period_of_day'] = hours_result"
   ]
  },
  {
   "cell_type": "code",
   "execution_count": 26,
   "id": "cd935bcf",
   "metadata": {},
   "outputs": [
    {
     "data": {
      "text/plain": [
       "Average Orders    29591818\n",
       "Most Orders        2761760\n",
       "Fewest Orders        51281\n",
       "Name: busiest_period_of_day, dtype: int64"
      ]
     },
     "execution_count": 26,
     "metadata": {},
     "output_type": "execute_result"
    }
   ],
   "source": [
    "#Frequency of busiest hours\n",
    "df_orders_products['busiest_period_of_day'].value_counts(dropna = False)"
   ]
  },
  {
   "cell_type": "markdown",
   "id": "f015d559",
   "metadata": {},
   "source": [
    "## 5.0 Export Data"
   ]
  },
  {
   "cell_type": "code",
   "execution_count": 27,
   "id": "4a37265b",
   "metadata": {},
   "outputs": [],
   "source": [
    "#Export updated dataframe as a pickle\n",
    "df_orders_products.to_pickle(os.path.join(project_path,'02 02 Prepared Data', 'orders_products_grouped.pkl'))"
   ]
  }
 ],
 "metadata": {
  "kernelspec": {
   "display_name": "Python 3 (ipykernel)",
   "language": "python",
   "name": "python3"
  },
  "language_info": {
   "codemirror_mode": {
    "name": "ipython",
    "version": 3
   },
   "file_extension": ".py",
   "mimetype": "text/x-python",
   "name": "python",
   "nbconvert_exporter": "python",
   "pygments_lexer": "ipython3",
   "version": "3.10.9"
  }
 },
 "nbformat": 4,
 "nbformat_minor": 5
}
