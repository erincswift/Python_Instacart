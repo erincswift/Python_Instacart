{
 "cells": [
  {
   "cell_type": "markdown",
   "id": "fd970f98",
   "metadata": {},
   "source": [
    "# Customer Analysis"
   ]
  },
  {
   "cell_type": "markdown",
   "id": "e216c9cb",
   "metadata": {},
   "source": [
    "## Contents:\n",
    "#### Assign each order to a region\n",
    "#### Compare spending by region\n",
    "#### Create dataset with only active users\n",
    "#### Create age, income and dependant flags\n",
    "#### Merge department information\n",
    "#### Customer profile visualizations\n",
    "#### Order habits of customer profiles\n",
    "#### Cross reference of customer profiles"
   ]
  },
  {
   "cell_type": "markdown",
   "id": "9c8ddea1",
   "metadata": {},
   "source": [
    "## 1.0 Import Libraries"
   ]
  },
  {
   "cell_type": "code",
   "execution_count": 1,
   "id": "49be469d",
   "metadata": {},
   "outputs": [],
   "source": [
    "#Import standard libraries\n",
    "import pandas as pd\n",
    "import numpy as np\n",
    "import os"
   ]
  },
  {
   "cell_type": "code",
   "execution_count": 2,
   "id": "4c43e665",
   "metadata": {},
   "outputs": [],
   "source": [
    "#Import figure libraries\n",
    "import matplotlib.pyplot as plt\n",
    "import seaborn as sns\n",
    "import scipy"
   ]
  },
  {
   "cell_type": "markdown",
   "id": "1d747f30",
   "metadata": {},
   "source": [
    "## 2.0 Import data"
   ]
  },
  {
   "cell_type": "code",
   "execution_count": 51,
   "id": "cb5a13e6",
   "metadata": {},
   "outputs": [],
   "source": [
    "#Create path for importing data\n",
    "project_path = r'C:\\Users\\Owner\\Documents\\Career Foundry\\Instacart Basket Analysis'\n",
    "#Import customer data\n",
    "df_cop = pd.read_pickle(os.path.join(project_path, '02 Data', '02 02 Prepared Data', 'orders_products_customers.pkl'))\n"
   ]
  },
  {
   "cell_type": "code",
   "execution_count": 52,
   "id": "7369e4cc",
   "metadata": {},
   "outputs": [
    {
     "data": {
      "text/plain": [
       "(32404859, 31)"
      ]
     },
     "execution_count": 52,
     "metadata": {},
     "output_type": "execute_result"
    }
   ],
   "source": [
    "df_cop.shape"
   ]
  },
  {
   "cell_type": "code",
   "execution_count": 53,
   "id": "6ae57c35",
   "metadata": {},
   "outputs": [
    {
     "data": {
      "text/plain": [
       "Index(['order_id', 'user_id', 'order_number', 'order_day_of_week',\n",
       "       'order_hour_of_day', 'days_since_prior_order', 'product_id',\n",
       "       'add_to_cart_order', 'reordered', 'product_name', 'aisle_id',\n",
       "       'department_id', 'prices', 'price_range', 'busiest_day', 'grouped_days',\n",
       "       'busiest_period_of_day', 'max_orders', 'loyalty_flag', 'mean_price',\n",
       "       'spending_flag', 'median_days_since', 'frequency_flag', 'gender',\n",
       "       'state', 'age', 'date_joined', 'num_dependants', 'fam_status', 'income',\n",
       "       '_merge'],\n",
       "      dtype='object')"
      ]
     },
     "execution_count": 53,
     "metadata": {},
     "output_type": "execute_result"
    }
   ],
   "source": [
    "df_cop.columns"
   ]
  },
  {
   "cell_type": "markdown",
   "id": "3b077294",
   "metadata": {},
   "source": [
    "Note: PII was addressed in earlier data cleaning by dropping first and surnames from customer data."
   ]
  },
  {
   "cell_type": "markdown",
   "id": "06e91bf8",
   "metadata": {},
   "source": [
    "## 3.0 Spending by Region"
   ]
  },
  {
   "cell_type": "markdown",
   "id": "2f5f51ab",
   "metadata": {},
   "source": [
    "### 3.1 Assign states to a region"
   ]
  },
  {
   "cell_type": "code",
   "execution_count": 54,
   "id": "06c076a1",
   "metadata": {},
   "outputs": [],
   "source": [
    "#Assign states to region and put region in empty set\n",
    "region = []\n",
    "\n",
    "for value in df_cop['state']:\n",
    "    if value in ['Maine','New Hampshire', 'Vermont', 'Massachusetts', 'Rhode Island', 'Connecticut', 'New York', 'Pennsylvania', 'New Jersey']:\n",
    "        region.append('Northeast')\n",
    "    elif value in ['Wisconsin', 'Michigan', 'Illinois', 'Indiana', 'Ohio', 'North Dakota', 'South Dakota', 'Nebraska', 'Kansas', 'Minnesota', 'Iowa', 'Missouri']:\n",
    "        region.append('Midwest')\n",
    "    elif value in ['Delaware', 'Maryland', 'District of Columbia', 'Virginia', 'West Virginia', 'North Carolina', 'South Carolina', 'Georgia', 'Florida', 'Kentucky', 'Tennessee', 'Mississippi', 'Alabama', 'Oklahoma', 'Texas', 'Arkansas', 'Louisiana']:\n",
    "        region.append('South')\n",
    "    elif value in ['Idaho', 'Montana', 'Wyoming', 'Nevada', 'Utah', 'Colorado', 'Arizona', 'New Mexico', 'Alaska', 'Washington', 'Oregon', 'California', 'Hawaii']:\n",
    "        region.append('West')\n",
    "    else:\n",
    "        region.append('Not identified')"
   ]
  },
  {
   "cell_type": "code",
   "execution_count": 55,
   "id": "cc637077",
   "metadata": {},
   "outputs": [],
   "source": [
    "#Add set as 'region' column\n",
    "df_cop['region'] = region"
   ]
  },
  {
   "cell_type": "code",
   "execution_count": 56,
   "id": "1c479100",
   "metadata": {},
   "outputs": [
    {
     "data": {
      "text/plain": [
       "South        10791885\n",
       "West          8292913\n",
       "Midwest       7597325\n",
       "Northeast     5722736\n",
       "Name: region, dtype: int64"
      ]
     },
     "execution_count": 56,
     "metadata": {},
     "output_type": "execute_result"
    }
   ],
   "source": [
    "#Determine number of orders per region\n",
    "df_cop['region'].value_counts(dropna = False)"
   ]
  },
  {
   "cell_type": "markdown",
   "id": "3fb6f41e",
   "metadata": {},
   "source": [
    "### 3.2 Compare average spending by region"
   ]
  },
  {
   "cell_type": "code",
   "execution_count": 57,
   "id": "d7fa5ed7",
   "metadata": {},
   "outputs": [
    {
     "data": {
      "text/plain": [
       "<pandas.core.groupby.generic.DataFrameGroupBy object at 0x0000025837851A50>"
      ]
     },
     "execution_count": 57,
     "metadata": {},
     "output_type": "execute_result"
    }
   ],
   "source": [
    "#Group orders by region\n",
    "df_cop.groupby('region')"
   ]
  },
  {
   "cell_type": "code",
   "execution_count": 58,
   "id": "bfb03649",
   "metadata": {},
   "outputs": [
    {
     "data": {
      "text/html": [
       "<div>\n",
       "<style scoped>\n",
       "    .dataframe tbody tr th:only-of-type {\n",
       "        vertical-align: middle;\n",
       "    }\n",
       "\n",
       "    .dataframe tbody tr th {\n",
       "        vertical-align: top;\n",
       "    }\n",
       "\n",
       "    .dataframe thead tr th {\n",
       "        text-align: left;\n",
       "    }\n",
       "\n",
       "    .dataframe thead tr:last-of-type th {\n",
       "        text-align: right;\n",
       "    }\n",
       "</style>\n",
       "<table border=\"1\" class=\"dataframe\">\n",
       "  <thead>\n",
       "    <tr>\n",
       "      <th></th>\n",
       "      <th colspan=\"3\" halign=\"left\">prices</th>\n",
       "    </tr>\n",
       "    <tr>\n",
       "      <th></th>\n",
       "      <th>mean</th>\n",
       "      <th>min</th>\n",
       "      <th>max</th>\n",
       "    </tr>\n",
       "    <tr>\n",
       "      <th>region</th>\n",
       "      <th></th>\n",
       "      <th></th>\n",
       "      <th></th>\n",
       "    </tr>\n",
       "  </thead>\n",
       "  <tbody>\n",
       "    <tr>\n",
       "      <th>Midwest</th>\n",
       "      <td>7.792584</td>\n",
       "      <td>1.0</td>\n",
       "      <td>25.0</td>\n",
       "    </tr>\n",
       "    <tr>\n",
       "      <th>Northeast</th>\n",
       "      <td>7.782409</td>\n",
       "      <td>1.0</td>\n",
       "      <td>25.0</td>\n",
       "    </tr>\n",
       "    <tr>\n",
       "      <th>South</th>\n",
       "      <td>7.794918</td>\n",
       "      <td>1.0</td>\n",
       "      <td>25.0</td>\n",
       "    </tr>\n",
       "    <tr>\n",
       "      <th>West</th>\n",
       "      <td>7.790355</td>\n",
       "      <td>1.0</td>\n",
       "      <td>25.0</td>\n",
       "    </tr>\n",
       "  </tbody>\n",
       "</table>\n",
       "</div>"
      ],
      "text/plain": [
       "             prices           \n",
       "               mean  min   max\n",
       "region                        \n",
       "Midwest    7.792584  1.0  25.0\n",
       "Northeast  7.782409  1.0  25.0\n",
       "South      7.794918  1.0  25.0\n",
       "West       7.790355  1.0  25.0"
      ]
     },
     "execution_count": 58,
     "metadata": {},
     "output_type": "execute_result"
    }
   ],
   "source": [
    "#Determine mean price by region\n",
    "df_cop.groupby('region').agg({'prices':['mean','min','max']})"
   ]
  },
  {
   "cell_type": "code",
   "execution_count": 59,
   "id": "32aba9d1",
   "metadata": {},
   "outputs": [
    {
     "data": {
      "text/plain": [
       "spending_flag  region   \n",
       "Low Spender    South        10582194\n",
       "               West          8132559\n",
       "               Midwest       7441350\n",
       "               Northeast     5614511\n",
       "High Spender   South          209691\n",
       "               West           160354\n",
       "               Midwest        155975\n",
       "               Northeast      108225\n",
       "dtype: int64"
      ]
     },
     "execution_count": 59,
     "metadata": {},
     "output_type": "execute_result"
    }
   ],
   "source": [
    "#Determine number of orders per region by flag\n",
    "df_cop.value_counts((['spending_flag', 'region']), dropna = False)"
   ]
  },
  {
   "cell_type": "code",
   "execution_count": 60,
   "id": "f8a57c99",
   "metadata": {},
   "outputs": [],
   "source": [
    "#Create dataset from results\n",
    "df_region_spending = df_cop.value_counts((['spending_flag', 'region']), dropna = False)"
   ]
  },
  {
   "cell_type": "markdown",
   "id": "9b0e4a46",
   "metadata": {},
   "source": [
    "## 4.0 Disclude infrequent users"
   ]
  },
  {
   "cell_type": "markdown",
   "id": "1319747e",
   "metadata": {},
   "source": [
    "### 4.1 Create a flag for inactive users"
   ]
  },
  {
   "cell_type": "code",
   "execution_count": 61,
   "id": "74502bd4",
   "metadata": {},
   "outputs": [],
   "source": [
    "#Less than five orders are inactive users\n",
    "df_cop.loc[df_cop['max_orders'] < 5, 'activity_flag'] = 'Low Activity'"
   ]
  },
  {
   "cell_type": "code",
   "execution_count": 62,
   "id": "64a2fb97",
   "metadata": {},
   "outputs": [],
   "source": [
    "#Five orders or more are active users\n",
    "df_cop.loc[df_cop['max_orders'] >= 5, 'activity_flag'] = 'Regular Activity'"
   ]
  },
  {
   "cell_type": "code",
   "execution_count": 65,
   "id": "8359ab30",
   "metadata": {},
   "outputs": [
    {
     "data": {
      "text/plain": [
       "Regular Activity    30964564\n",
       "Low Activity         1440295\n",
       "Name: activity_flag, dtype: int64"
      ]
     },
     "execution_count": 65,
     "metadata": {},
     "output_type": "execute_result"
    }
   ],
   "source": [
    "df_cop['activity_flag'].value_counts(dropna = False)"
   ]
  },
  {
   "cell_type": "markdown",
   "id": "702afdb1",
   "metadata": {},
   "source": [
    "### 4.2 Create dataframe without low activity users"
   ]
  },
  {
   "cell_type": "code",
   "execution_count": 66,
   "id": "44c94774",
   "metadata": {},
   "outputs": [],
   "source": [
    "df_users = df_cop[df_cop['activity_flag']=='Regular Activity']"
   ]
  },
  {
   "cell_type": "code",
   "execution_count": 67,
   "id": "00dfd3ed",
   "metadata": {},
   "outputs": [
    {
     "data": {
      "text/plain": [
       "(30964564, 33)"
      ]
     },
     "execution_count": 67,
     "metadata": {},
     "output_type": "execute_result"
    }
   ],
   "source": [
    "df_users.shape"
   ]
  },
  {
   "cell_type": "markdown",
   "id": "44fd6e00",
   "metadata": {},
   "source": [
    "## 5.0 Customer Profiling"
   ]
  },
  {
   "cell_type": "markdown",
   "id": "30f19eb4",
   "metadata": {},
   "source": [
    "### 5.1 Create customer flags for reporting"
   ]
  },
  {
   "cell_type": "code",
   "execution_count": 68,
   "id": "7925c258",
   "metadata": {},
   "outputs": [
    {
     "data": {
      "text/plain": [
       "married                             22756753\n",
       "single                               5325691\n",
       "divorced/widowed                     2771812\n",
       "living with parents and siblings     1550603\n",
       "Name: fam_status, dtype: int64"
      ]
     },
     "execution_count": 68,
     "metadata": {},
     "output_type": "execute_result"
    }
   ],
   "source": [
    "#Review family status category\n",
    "df_cop['fam_status'].value_counts(dropna = False)"
   ]
  },
  {
   "cell_type": "code",
   "execution_count": 69,
   "id": "ef96563c",
   "metadata": {},
   "outputs": [],
   "source": [
    "#Create flag by age group: senior, adult, young adult\n",
    "df_cop.loc[df_cop['age'] >= 65, 'age_group'] = 'Senior'\n",
    "df_cop.loc[(df_cop['age'] < 65) & (df_cop['age'] >= 35), 'age_group'] = 'Adult'\n",
    "df_cop.loc[df_cop['age'] < 35, 'age_group'] = 'Young Adult'"
   ]
  },
  {
   "cell_type": "code",
   "execution_count": 70,
   "id": "c442ce82",
   "metadata": {},
   "outputs": [
    {
     "data": {
      "text/plain": [
       "Adult          15202120\n",
       "Young Adult     8627655\n",
       "Senior          8575084\n",
       "Name: age_group, dtype: int64"
      ]
     },
     "execution_count": 70,
     "metadata": {},
     "output_type": "execute_result"
    }
   ],
   "source": [
    "df_cop['age_group'].value_counts(dropna = False)"
   ]
  },
  {
   "cell_type": "code",
   "execution_count": 71,
   "id": "c0854b71",
   "metadata": {},
   "outputs": [],
   "source": [
    "#Create flag by income: upper class, middle class, low income\n",
    "df_cop.loc[df_cop['income'] <= 50000, 'income_flag'] = 'Low Income'\n",
    "df_cop.loc[(df_cop['income'] > 50000) & (df_cop['income'] <= 200000), 'income_flag'] = 'Middle Class'\n",
    "df_cop.loc[df_cop['income'] > 200000, 'income_flag'] = 'Upper Class'"
   ]
  },
  {
   "cell_type": "code",
   "execution_count": 72,
   "id": "8c5f74ca",
   "metadata": {},
   "outputs": [
    {
     "data": {
      "text/plain": [
       "Middle Class    28552333\n",
       "Low Income       3594083\n",
       "Upper Class       258443\n",
       "Name: income_flag, dtype: int64"
      ]
     },
     "execution_count": 72,
     "metadata": {},
     "output_type": "execute_result"
    }
   ],
   "source": [
    "df_cop['income_flag'].value_counts(dropna = False)"
   ]
  },
  {
   "cell_type": "code",
   "execution_count": 73,
   "id": "a59bb13e",
   "metadata": {},
   "outputs": [],
   "source": [
    "#Create flag by dependants and no dependants\n",
    "df_cop.loc[df_cop['num_dependants'] <= 0, 'dependants_flag'] = 'No dependants'\n",
    "df_cop.loc[df_cop['num_dependants'] > 0, 'dependants_flag'] = 'Dependants'"
   ]
  },
  {
   "cell_type": "code",
   "execution_count": 74,
   "id": "d58daa3d",
   "metadata": {},
   "outputs": [
    {
     "data": {
      "text/plain": [
       "Dependants       24307356\n",
       "No dependants     8097503\n",
       "Name: dependants_flag, dtype: int64"
      ]
     },
     "execution_count": 74,
     "metadata": {},
     "output_type": "execute_result"
    }
   ],
   "source": [
    "df_cop['dependants_flag'].value_counts(dropna = False)"
   ]
  },
  {
   "cell_type": "markdown",
   "id": "dac92cd3",
   "metadata": {},
   "source": [
    "### 5.2 Department information"
   ]
  },
  {
   "cell_type": "code",
   "execution_count": 77,
   "id": "eca57a7f",
   "metadata": {},
   "outputs": [],
   "source": [
    "#Create dataframe from department information\n",
    "df_dept = pd.read_csv(os.path.join(project_path, '02 Data', '02 02 Prepared Data', 'departments_wrangled.csv'))"
   ]
  },
  {
   "cell_type": "code",
   "execution_count": 78,
   "id": "d0718c02",
   "metadata": {},
   "outputs": [
    {
     "data": {
      "text/html": [
       "<div>\n",
       "<style scoped>\n",
       "    .dataframe tbody tr th:only-of-type {\n",
       "        vertical-align: middle;\n",
       "    }\n",
       "\n",
       "    .dataframe tbody tr th {\n",
       "        vertical-align: top;\n",
       "    }\n",
       "\n",
       "    .dataframe thead th {\n",
       "        text-align: right;\n",
       "    }\n",
       "</style>\n",
       "<table border=\"1\" class=\"dataframe\">\n",
       "  <thead>\n",
       "    <tr style=\"text-align: right;\">\n",
       "      <th></th>\n",
       "      <th>Unnamed: 0</th>\n",
       "      <th>department</th>\n",
       "    </tr>\n",
       "  </thead>\n",
       "  <tbody>\n",
       "    <tr>\n",
       "      <th>0</th>\n",
       "      <td>1</td>\n",
       "      <td>frozen</td>\n",
       "    </tr>\n",
       "    <tr>\n",
       "      <th>1</th>\n",
       "      <td>2</td>\n",
       "      <td>other</td>\n",
       "    </tr>\n",
       "    <tr>\n",
       "      <th>2</th>\n",
       "      <td>3</td>\n",
       "      <td>bakery</td>\n",
       "    </tr>\n",
       "    <tr>\n",
       "      <th>3</th>\n",
       "      <td>4</td>\n",
       "      <td>produce</td>\n",
       "    </tr>\n",
       "    <tr>\n",
       "      <th>4</th>\n",
       "      <td>5</td>\n",
       "      <td>alcohol</td>\n",
       "    </tr>\n",
       "    <tr>\n",
       "      <th>5</th>\n",
       "      <td>6</td>\n",
       "      <td>international</td>\n",
       "    </tr>\n",
       "    <tr>\n",
       "      <th>6</th>\n",
       "      <td>7</td>\n",
       "      <td>beverages</td>\n",
       "    </tr>\n",
       "    <tr>\n",
       "      <th>7</th>\n",
       "      <td>8</td>\n",
       "      <td>pets</td>\n",
       "    </tr>\n",
       "    <tr>\n",
       "      <th>8</th>\n",
       "      <td>9</td>\n",
       "      <td>dry goods pasta</td>\n",
       "    </tr>\n",
       "    <tr>\n",
       "      <th>9</th>\n",
       "      <td>10</td>\n",
       "      <td>bulk</td>\n",
       "    </tr>\n",
       "    <tr>\n",
       "      <th>10</th>\n",
       "      <td>11</td>\n",
       "      <td>personal care</td>\n",
       "    </tr>\n",
       "    <tr>\n",
       "      <th>11</th>\n",
       "      <td>12</td>\n",
       "      <td>meat seafood</td>\n",
       "    </tr>\n",
       "    <tr>\n",
       "      <th>12</th>\n",
       "      <td>13</td>\n",
       "      <td>pantry</td>\n",
       "    </tr>\n",
       "    <tr>\n",
       "      <th>13</th>\n",
       "      <td>14</td>\n",
       "      <td>breakfast</td>\n",
       "    </tr>\n",
       "    <tr>\n",
       "      <th>14</th>\n",
       "      <td>15</td>\n",
       "      <td>canned goods</td>\n",
       "    </tr>\n",
       "    <tr>\n",
       "      <th>15</th>\n",
       "      <td>16</td>\n",
       "      <td>dairy eggs</td>\n",
       "    </tr>\n",
       "    <tr>\n",
       "      <th>16</th>\n",
       "      <td>17</td>\n",
       "      <td>household</td>\n",
       "    </tr>\n",
       "    <tr>\n",
       "      <th>17</th>\n",
       "      <td>18</td>\n",
       "      <td>babies</td>\n",
       "    </tr>\n",
       "    <tr>\n",
       "      <th>18</th>\n",
       "      <td>19</td>\n",
       "      <td>snacks</td>\n",
       "    </tr>\n",
       "    <tr>\n",
       "      <th>19</th>\n",
       "      <td>20</td>\n",
       "      <td>deli</td>\n",
       "    </tr>\n",
       "    <tr>\n",
       "      <th>20</th>\n",
       "      <td>21</td>\n",
       "      <td>missing</td>\n",
       "    </tr>\n",
       "  </tbody>\n",
       "</table>\n",
       "</div>"
      ],
      "text/plain": [
       "    Unnamed: 0       department\n",
       "0            1           frozen\n",
       "1            2            other\n",
       "2            3           bakery\n",
       "3            4          produce\n",
       "4            5          alcohol\n",
       "5            6    international\n",
       "6            7        beverages\n",
       "7            8             pets\n",
       "8            9  dry goods pasta\n",
       "9           10             bulk\n",
       "10          11    personal care\n",
       "11          12     meat seafood\n",
       "12          13           pantry\n",
       "13          14        breakfast\n",
       "14          15     canned goods\n",
       "15          16       dairy eggs\n",
       "16          17        household\n",
       "17          18           babies\n",
       "18          19           snacks\n",
       "19          20             deli\n",
       "20          21          missing"
      ]
     },
     "execution_count": 78,
     "metadata": {},
     "output_type": "execute_result"
    }
   ],
   "source": [
    "df_dept"
   ]
  },
  {
   "cell_type": "code",
   "execution_count": 79,
   "id": "68395713",
   "metadata": {},
   "outputs": [],
   "source": [
    "#Rename unnamed column to department_id\n",
    "df_dept.rename(columns={'Unnamed: 0':'department_id'},inplace=True)"
   ]
  },
  {
   "cell_type": "code",
   "execution_count": 83,
   "id": "cd3ffb93",
   "metadata": {},
   "outputs": [
    {
     "data": {
      "text/html": [
       "<div>\n",
       "<style scoped>\n",
       "    .dataframe tbody tr th:only-of-type {\n",
       "        vertical-align: middle;\n",
       "    }\n",
       "\n",
       "    .dataframe tbody tr th {\n",
       "        vertical-align: top;\n",
       "    }\n",
       "\n",
       "    .dataframe thead th {\n",
       "        text-align: right;\n",
       "    }\n",
       "</style>\n",
       "<table border=\"1\" class=\"dataframe\">\n",
       "  <thead>\n",
       "    <tr style=\"text-align: right;\">\n",
       "      <th></th>\n",
       "      <th>department_id</th>\n",
       "      <th>department</th>\n",
       "    </tr>\n",
       "  </thead>\n",
       "  <tbody>\n",
       "    <tr>\n",
       "      <th>0</th>\n",
       "      <td>1</td>\n",
       "      <td>frozen</td>\n",
       "    </tr>\n",
       "    <tr>\n",
       "      <th>1</th>\n",
       "      <td>2</td>\n",
       "      <td>other</td>\n",
       "    </tr>\n",
       "    <tr>\n",
       "      <th>2</th>\n",
       "      <td>3</td>\n",
       "      <td>bakery</td>\n",
       "    </tr>\n",
       "    <tr>\n",
       "      <th>3</th>\n",
       "      <td>4</td>\n",
       "      <td>produce</td>\n",
       "    </tr>\n",
       "    <tr>\n",
       "      <th>4</th>\n",
       "      <td>5</td>\n",
       "      <td>alcohol</td>\n",
       "    </tr>\n",
       "    <tr>\n",
       "      <th>5</th>\n",
       "      <td>6</td>\n",
       "      <td>international</td>\n",
       "    </tr>\n",
       "    <tr>\n",
       "      <th>6</th>\n",
       "      <td>7</td>\n",
       "      <td>beverages</td>\n",
       "    </tr>\n",
       "    <tr>\n",
       "      <th>7</th>\n",
       "      <td>8</td>\n",
       "      <td>pets</td>\n",
       "    </tr>\n",
       "    <tr>\n",
       "      <th>8</th>\n",
       "      <td>9</td>\n",
       "      <td>dry goods pasta</td>\n",
       "    </tr>\n",
       "    <tr>\n",
       "      <th>9</th>\n",
       "      <td>10</td>\n",
       "      <td>bulk</td>\n",
       "    </tr>\n",
       "    <tr>\n",
       "      <th>10</th>\n",
       "      <td>11</td>\n",
       "      <td>personal care</td>\n",
       "    </tr>\n",
       "    <tr>\n",
       "      <th>11</th>\n",
       "      <td>12</td>\n",
       "      <td>meat seafood</td>\n",
       "    </tr>\n",
       "    <tr>\n",
       "      <th>12</th>\n",
       "      <td>13</td>\n",
       "      <td>pantry</td>\n",
       "    </tr>\n",
       "    <tr>\n",
       "      <th>13</th>\n",
       "      <td>14</td>\n",
       "      <td>breakfast</td>\n",
       "    </tr>\n",
       "    <tr>\n",
       "      <th>14</th>\n",
       "      <td>15</td>\n",
       "      <td>canned goods</td>\n",
       "    </tr>\n",
       "    <tr>\n",
       "      <th>15</th>\n",
       "      <td>16</td>\n",
       "      <td>dairy eggs</td>\n",
       "    </tr>\n",
       "    <tr>\n",
       "      <th>16</th>\n",
       "      <td>17</td>\n",
       "      <td>household</td>\n",
       "    </tr>\n",
       "    <tr>\n",
       "      <th>17</th>\n",
       "      <td>18</td>\n",
       "      <td>babies</td>\n",
       "    </tr>\n",
       "    <tr>\n",
       "      <th>18</th>\n",
       "      <td>19</td>\n",
       "      <td>snacks</td>\n",
       "    </tr>\n",
       "    <tr>\n",
       "      <th>19</th>\n",
       "      <td>20</td>\n",
       "      <td>deli</td>\n",
       "    </tr>\n",
       "    <tr>\n",
       "      <th>20</th>\n",
       "      <td>21</td>\n",
       "      <td>missing</td>\n",
       "    </tr>\n",
       "  </tbody>\n",
       "</table>\n",
       "</div>"
      ],
      "text/plain": [
       "    department_id       department\n",
       "0               1           frozen\n",
       "1               2            other\n",
       "2               3           bakery\n",
       "3               4          produce\n",
       "4               5          alcohol\n",
       "5               6    international\n",
       "6               7        beverages\n",
       "7               8             pets\n",
       "8               9  dry goods pasta\n",
       "9              10             bulk\n",
       "10             11    personal care\n",
       "11             12     meat seafood\n",
       "12             13           pantry\n",
       "13             14        breakfast\n",
       "14             15     canned goods\n",
       "15             16       dairy eggs\n",
       "16             17        household\n",
       "17             18           babies\n",
       "18             19           snacks\n",
       "19             20             deli\n",
       "20             21          missing"
      ]
     },
     "execution_count": 83,
     "metadata": {},
     "output_type": "execute_result"
    }
   ],
   "source": [
    "df_dept"
   ]
  },
  {
   "cell_type": "code",
   "execution_count": 85,
   "id": "87db5634",
   "metadata": {},
   "outputs": [],
   "source": [
    "#Merge department information to main dataset\n",
    "df_cop_merged=df_cop.merge(df_dept,on='department_id')"
   ]
  },
  {
   "cell_type": "code",
   "execution_count": 90,
   "id": "282cf5cf",
   "metadata": {},
   "outputs": [
    {
     "data": {
      "text/plain": [
       "(32404859, 37)"
      ]
     },
     "execution_count": 90,
     "metadata": {},
     "output_type": "execute_result"
    }
   ],
   "source": [
    "df_cop_merged.shape"
   ]
  },
  {
   "cell_type": "code",
   "execution_count": 91,
   "id": "6286610e",
   "metadata": {},
   "outputs": [
    {
     "data": {
      "text/plain": [
       "4     9479291\n",
       "16    5398747\n",
       "19    2887550\n",
       "7     2688123\n",
       "1     2234743\n",
       "13    1875369\n",
       "3     1172428\n",
       "15    1068058\n",
       "20    1051249\n",
       "9      866627\n",
       "17     738666\n",
       "12     708927\n",
       "14     703033\n",
       "11     447572\n",
       "18     423802\n",
       "6      269253\n",
       "5      153696\n",
       "8       97716\n",
       "21      69145\n",
       "2       36291\n",
       "10      34573\n",
       "Name: department_id, dtype: int64"
      ]
     },
     "execution_count": 91,
     "metadata": {},
     "output_type": "execute_result"
    }
   ],
   "source": [
    "df_cop_merged['department_id'].value_counts(dropna=False)"
   ]
  },
  {
   "cell_type": "markdown",
   "id": "30f46581",
   "metadata": {},
   "source": [
    "## 6.0 Visualizations"
   ]
  },
  {
   "cell_type": "markdown",
   "id": "e074f37d",
   "metadata": {},
   "source": [
    "### 6.1 Customer profile visualizations"
   ]
  },
  {
   "cell_type": "code",
   "execution_count": 96,
   "id": "939d7e28",
   "metadata": {},
   "outputs": [
    {
     "data": {
      "image/png": "[encoded data removed]",
      "text/plain": [
       "<Figure size 640x480 with 1 Axes>"
      ]
     },
     "metadata": {},
     "output_type": "display_data"
    }
   ],
   "source": [
    "#Percentage of customers per age group\n",
    "pie_age_group=df_cop_merged['age_group'].value_counts().plot.pie(title='Customers per Age Group',label='',autopct=('%1.f%%'))"
   ]
  },
  {
   "cell_type": "code",
   "execution_count": 97,
   "id": "dc557f03",
   "metadata": {},
   "outputs": [],
   "source": [
    "#Save visualization\n",
    "pie_age_group.figure.savefig(os.path.join(project_path, '04 Analysis','04 03 Visualizations', 'pie_age_group.png'))"
   ]
  },
  {
   "cell_type": "code",
   "execution_count": 98,
   "id": "edc09b9f",
   "metadata": {},
   "outputs": [
    {
     "data": {
      "image/png": "[encoded data removed]",
      "text/plain": [
       "<Figure size 640x480 with 1 Axes>"
      ]
     },
     "metadata": {},
     "output_type": "display_data"
    }
   ],
   "source": [
    "#Percentage of customers per region\n",
    "pie_region=df_cop_merged['region'].value_counts().plot.pie(title='Customers per Region',label='',autopct=('%1.f%%'))"
   ]
  },
  {
   "cell_type": "code",
   "execution_count": 101,
   "id": "87761253",
   "metadata": {},
   "outputs": [],
   "source": [
    "#Save visualization\n",
    "pie_region.figure.savefig(os.path.join(project_path, '04 Analysis','04 03 Visualizations', 'pie_region.png'))"
   ]
  },
  {
   "cell_type": "code",
   "execution_count": 99,
   "id": "89b42773",
   "metadata": {},
   "outputs": [
    {
     "data": {
      "image/png": "[encoded data removed]",
      "text/plain": [
       "<Figure size 640x480 with 1 Axes>"
      ]
     },
     "metadata": {},
     "output_type": "display_data"
    }
   ],
   "source": [
    "#Percentage of customers per income flag\n",
    "pie_income_flag=df_cop_merged['income_flag'].value_counts().plot.pie(title='Customers per Income Flag',label='',autopct=('%1.f%%'))"
   ]
  },
  {
   "cell_type": "code",
   "execution_count": 100,
   "id": "93292554",
   "metadata": {},
   "outputs": [],
   "source": [
    "#Save visualization\n",
    "pie_income_flag.figure.savefig(os.path.join(project_path, '04 Analysis','04 03 Visualizations', 'pie_income_flag.png'))"
   ]
  },
  {
   "cell_type": "code",
   "execution_count": 102,
   "id": "b205f706",
   "metadata": {},
   "outputs": [
    {
     "data": {
      "image/png": "[encoded data removed]",
      "text/plain": [
       "<Figure size 640x480 with 1 Axes>"
      ]
     },
     "metadata": {},
     "output_type": "display_data"
    }
   ],
   "source": [
    "#Percentage of customers with dependants\n",
    "pie_dependants=df_cop_merged['dependants_flag'].value_counts().plot.pie(title='Customers with Dependants',label='',autopct=('%1.f%%'))"
   ]
  },
  {
   "cell_type": "code",
   "execution_count": 104,
   "id": "7d3d6ae1",
   "metadata": {},
   "outputs": [],
   "source": [
    "#Save visualization\n",
    "pie_dependants.figure.savefig(os.path.join(project_path, '04 Analysis','04 03 Visualizations', 'pie_dependants_flag.png'))"
   ]
  },
  {
   "cell_type": "code",
   "execution_count": 106,
   "id": "6ae85386",
   "metadata": {},
   "outputs": [
    {
     "data": {
      "image/png": "[encoded data removed]",
      "text/plain": [
       "<Figure size 640x480 with 1 Axes>"
      ]
     },
     "metadata": {},
     "output_type": "display_data"
    }
   ],
   "source": [
    "#Create a bar chart for product orders\n",
    "bar_products = df_cop_merged['department'].value_counts().plot.bar(title='Orders per Department')"
   ]
  },
  {
   "cell_type": "code",
   "execution_count": 107,
   "id": "92d96b49",
   "metadata": {},
   "outputs": [],
   "source": [
    "#Save visualization\n",
    "bar_products.figure.savefig(os.path.join(project_path, '04 Analysis','04 03 Visualizations', 'bar_products.png'))"
   ]
  },
  {
   "cell_type": "markdown",
   "id": "58ff0bfc",
   "metadata": {},
   "source": [
    "## 7.0 Aggregrate Functions"
   ]
  },
  {
   "cell_type": "code",
   "execution_count": 117,
   "id": "a5500f17",
   "metadata": {},
   "outputs": [
    {
     "data": {
      "text/html": [
       "<div>\n",
       "<style scoped>\n",
       "    .dataframe tbody tr th:only-of-type {\n",
       "        vertical-align: middle;\n",
       "    }\n",
       "\n",
       "    .dataframe tbody tr th {\n",
       "        vertical-align: top;\n",
       "    }\n",
       "\n",
       "    .dataframe thead tr th {\n",
       "        text-align: left;\n",
       "    }\n",
       "\n",
       "    .dataframe thead tr:last-of-type th {\n",
       "        text-align: right;\n",
       "    }\n",
       "</style>\n",
       "<table border=\"1\" class=\"dataframe\">\n",
       "  <thead>\n",
       "    <tr>\n",
       "      <th></th>\n",
       "      <th>order_day_of_week</th>\n",
       "      <th>order_hour_of_day</th>\n",
       "      <th colspan=\"3\" halign=\"left\">days_since_prior_order</th>\n",
       "      <th colspan=\"3\" halign=\"left\">prices</th>\n",
       "    </tr>\n",
       "    <tr>\n",
       "      <th></th>\n",
       "      <th>mean</th>\n",
       "      <th>mean</th>\n",
       "      <th>min</th>\n",
       "      <th>max</th>\n",
       "      <th>mean</th>\n",
       "      <th>min</th>\n",
       "      <th>max</th>\n",
       "      <th>mean</th>\n",
       "    </tr>\n",
       "    <tr>\n",
       "      <th>age_group</th>\n",
       "      <th></th>\n",
       "      <th></th>\n",
       "      <th></th>\n",
       "      <th></th>\n",
       "      <th></th>\n",
       "      <th></th>\n",
       "      <th></th>\n",
       "      <th></th>\n",
       "    </tr>\n",
       "  </thead>\n",
       "  <tbody>\n",
       "    <tr>\n",
       "      <th>Adult</th>\n",
       "      <td>2.739759</td>\n",
       "      <td>13.435711</td>\n",
       "      <td>0.0</td>\n",
       "      <td>30.0</td>\n",
       "      <td>11.108966</td>\n",
       "      <td>1.0</td>\n",
       "      <td>25.0</td>\n",
       "      <td>7.790860</td>\n",
       "    </tr>\n",
       "    <tr>\n",
       "      <th>Senior</th>\n",
       "      <td>2.745084</td>\n",
       "      <td>13.426524</td>\n",
       "      <td>0.0</td>\n",
       "      <td>30.0</td>\n",
       "      <td>11.078641</td>\n",
       "      <td>1.0</td>\n",
       "      <td>25.0</td>\n",
       "      <td>7.796546</td>\n",
       "    </tr>\n",
       "    <tr>\n",
       "      <th>Young Adult</th>\n",
       "      <td>2.731117</td>\n",
       "      <td>13.405171</td>\n",
       "      <td>0.0</td>\n",
       "      <td>30.0</td>\n",
       "      <td>11.120753</td>\n",
       "      <td>1.0</td>\n",
       "      <td>25.0</td>\n",
       "      <td>7.785713</td>\n",
       "    </tr>\n",
       "  </tbody>\n",
       "</table>\n",
       "</div>"
      ],
      "text/plain": [
       "            order_day_of_week order_hour_of_day days_since_prior_order        \\\n",
       "                         mean              mean                    min   max   \n",
       "age_group                                                                      \n",
       "Adult                2.739759         13.435711                    0.0  30.0   \n",
       "Senior               2.745084         13.426524                    0.0  30.0   \n",
       "Young Adult          2.731117         13.405171                    0.0  30.0   \n",
       "\n",
       "                       prices                  \n",
       "                  mean    min   max      mean  \n",
       "age_group                                      \n",
       "Adult        11.108966    1.0  25.0  7.790860  \n",
       "Senior       11.078641    1.0  25.0  7.796546  \n",
       "Young Adult  11.120753    1.0  25.0  7.785713  "
      ]
     },
     "execution_count": 117,
     "metadata": {},
     "output_type": "execute_result"
    }
   ],
   "source": [
    "#Age Group Aggregrates\n",
    "df_cop_merged.groupby('age_group').agg({'order_day_of_week':['mean'], 'order_hour_of_day':['mean'], 'days_since_prior_order':['min', 'max', 'mean'], 'prices':['min', 'max', 'mean']})"
   ]
  },
  {
   "cell_type": "code",
   "execution_count": 119,
   "id": "8eac012e",
   "metadata": {},
   "outputs": [
    {
     "data": {
      "text/html": [
       "<div>\n",
       "<style scoped>\n",
       "    .dataframe tbody tr th:only-of-type {\n",
       "        vertical-align: middle;\n",
       "    }\n",
       "\n",
       "    .dataframe tbody tr th {\n",
       "        vertical-align: top;\n",
       "    }\n",
       "\n",
       "    .dataframe thead tr th {\n",
       "        text-align: left;\n",
       "    }\n",
       "\n",
       "    .dataframe thead tr:last-of-type th {\n",
       "        text-align: right;\n",
       "    }\n",
       "</style>\n",
       "<table border=\"1\" class=\"dataframe\">\n",
       "  <thead>\n",
       "    <tr>\n",
       "      <th></th>\n",
       "      <th>order_day_of_week</th>\n",
       "      <th>order_hour_of_day</th>\n",
       "      <th colspan=\"3\" halign=\"left\">days_since_prior_order</th>\n",
       "      <th colspan=\"3\" halign=\"left\">prices</th>\n",
       "    </tr>\n",
       "    <tr>\n",
       "      <th></th>\n",
       "      <th>mean</th>\n",
       "      <th>mean</th>\n",
       "      <th>min</th>\n",
       "      <th>max</th>\n",
       "      <th>mean</th>\n",
       "      <th>min</th>\n",
       "      <th>max</th>\n",
       "      <th>mean</th>\n",
       "    </tr>\n",
       "    <tr>\n",
       "      <th>region</th>\n",
       "      <th></th>\n",
       "      <th></th>\n",
       "      <th></th>\n",
       "      <th></th>\n",
       "      <th></th>\n",
       "      <th></th>\n",
       "      <th></th>\n",
       "      <th></th>\n",
       "    </tr>\n",
       "  </thead>\n",
       "  <tbody>\n",
       "    <tr>\n",
       "      <th>Midwest</th>\n",
       "      <td>2.738748</td>\n",
       "      <td>13.444429</td>\n",
       "      <td>0.0</td>\n",
       "      <td>30.0</td>\n",
       "      <td>11.181836</td>\n",
       "      <td>1.0</td>\n",
       "      <td>25.0</td>\n",
       "      <td>7.792584</td>\n",
       "    </tr>\n",
       "    <tr>\n",
       "      <th>Northeast</th>\n",
       "      <td>2.734961</td>\n",
       "      <td>13.424586</td>\n",
       "      <td>0.0</td>\n",
       "      <td>30.0</td>\n",
       "      <td>11.075769</td>\n",
       "      <td>1.0</td>\n",
       "      <td>25.0</td>\n",
       "      <td>7.782409</td>\n",
       "    </tr>\n",
       "    <tr>\n",
       "      <th>South</th>\n",
       "      <td>2.740662</td>\n",
       "      <td>13.416887</td>\n",
       "      <td>0.0</td>\n",
       "      <td>30.0</td>\n",
       "      <td>11.108108</td>\n",
       "      <td>1.0</td>\n",
       "      <td>25.0</td>\n",
       "      <td>7.794918</td>\n",
       "    </tr>\n",
       "    <tr>\n",
       "      <th>West</th>\n",
       "      <td>2.739336</td>\n",
       "      <td>13.418626</td>\n",
       "      <td>0.0</td>\n",
       "      <td>30.0</td>\n",
       "      <td>11.047196</td>\n",
       "      <td>1.0</td>\n",
       "      <td>25.0</td>\n",
       "      <td>7.790355</td>\n",
       "    </tr>\n",
       "  </tbody>\n",
       "</table>\n",
       "</div>"
      ],
      "text/plain": [
       "          order_day_of_week order_hour_of_day days_since_prior_order        \\\n",
       "                       mean              mean                    min   max   \n",
       "region                                                                       \n",
       "Midwest            2.738748         13.444429                    0.0  30.0   \n",
       "Northeast          2.734961         13.424586                    0.0  30.0   \n",
       "South              2.740662         13.416887                    0.0  30.0   \n",
       "West               2.739336         13.418626                    0.0  30.0   \n",
       "\n",
       "                     prices                  \n",
       "                mean    min   max      mean  \n",
       "region                                       \n",
       "Midwest    11.181836    1.0  25.0  7.792584  \n",
       "Northeast  11.075769    1.0  25.0  7.782409  \n",
       "South      11.108108    1.0  25.0  7.794918  \n",
       "West       11.047196    1.0  25.0  7.790355  "
      ]
     },
     "execution_count": 119,
     "metadata": {},
     "output_type": "execute_result"
    }
   ],
   "source": [
    "#Region\n",
    "df_cop_merged.groupby('region').agg({'order_day_of_week':['mean'], 'order_hour_of_day':['mean'], 'days_since_prior_order':['min', 'max', 'mean'], 'prices':['min', 'max', 'mean']})"
   ]
  },
  {
   "cell_type": "code",
   "execution_count": 120,
   "id": "9a009db8",
   "metadata": {},
   "outputs": [
    {
     "data": {
      "text/html": [
       "<div>\n",
       "<style scoped>\n",
       "    .dataframe tbody tr th:only-of-type {\n",
       "        vertical-align: middle;\n",
       "    }\n",
       "\n",
       "    .dataframe tbody tr th {\n",
       "        vertical-align: top;\n",
       "    }\n",
       "\n",
       "    .dataframe thead tr th {\n",
       "        text-align: left;\n",
       "    }\n",
       "\n",
       "    .dataframe thead tr:last-of-type th {\n",
       "        text-align: right;\n",
       "    }\n",
       "</style>\n",
       "<table border=\"1\" class=\"dataframe\">\n",
       "  <thead>\n",
       "    <tr>\n",
       "      <th></th>\n",
       "      <th>order_day_of_week</th>\n",
       "      <th>order_hour_of_day</th>\n",
       "      <th colspan=\"3\" halign=\"left\">days_since_prior_order</th>\n",
       "      <th colspan=\"3\" halign=\"left\">prices</th>\n",
       "    </tr>\n",
       "    <tr>\n",
       "      <th></th>\n",
       "      <th>mean</th>\n",
       "      <th>mean</th>\n",
       "      <th>min</th>\n",
       "      <th>max</th>\n",
       "      <th>mean</th>\n",
       "      <th>min</th>\n",
       "      <th>max</th>\n",
       "      <th>mean</th>\n",
       "    </tr>\n",
       "    <tr>\n",
       "      <th>income_flag</th>\n",
       "      <th></th>\n",
       "      <th></th>\n",
       "      <th></th>\n",
       "      <th></th>\n",
       "      <th></th>\n",
       "      <th></th>\n",
       "      <th></th>\n",
       "      <th></th>\n",
       "    </tr>\n",
       "  </thead>\n",
       "  <tbody>\n",
       "    <tr>\n",
       "      <th>Low Income</th>\n",
       "      <td>2.751707</td>\n",
       "      <td>13.241120</td>\n",
       "      <td>0.0</td>\n",
       "      <td>30.0</td>\n",
       "      <td>11.587220</td>\n",
       "      <td>1.0</td>\n",
       "      <td>25.0</td>\n",
       "      <td>6.696985</td>\n",
       "    </tr>\n",
       "    <tr>\n",
       "      <th>Middle Class</th>\n",
       "      <td>2.736507</td>\n",
       "      <td>13.450177</td>\n",
       "      <td>0.0</td>\n",
       "      <td>30.0</td>\n",
       "      <td>11.052231</td>\n",
       "      <td>1.0</td>\n",
       "      <td>25.0</td>\n",
       "      <td>7.928843</td>\n",
       "    </tr>\n",
       "    <tr>\n",
       "      <th>Upper Class</th>\n",
       "      <td>2.821013</td>\n",
       "      <td>13.219321</td>\n",
       "      <td>0.0</td>\n",
       "      <td>30.0</td>\n",
       "      <td>10.199644</td>\n",
       "      <td>1.0</td>\n",
       "      <td>25.0</td>\n",
       "      <td>7.776825</td>\n",
       "    </tr>\n",
       "  </tbody>\n",
       "</table>\n",
       "</div>"
      ],
      "text/plain": [
       "             order_day_of_week order_hour_of_day days_since_prior_order        \\\n",
       "                          mean              mean                    min   max   \n",
       "income_flag                                                                     \n",
       "Low Income            2.751707         13.241120                    0.0  30.0   \n",
       "Middle Class          2.736507         13.450177                    0.0  30.0   \n",
       "Upper Class           2.821013         13.219321                    0.0  30.0   \n",
       "\n",
       "                        prices                  \n",
       "                   mean    min   max      mean  \n",
       "income_flag                                     \n",
       "Low Income    11.587220    1.0  25.0  6.696985  \n",
       "Middle Class  11.052231    1.0  25.0  7.928843  \n",
       "Upper Class   10.199644    1.0  25.0  7.776825  "
      ]
     },
     "execution_count": 120,
     "metadata": {},
     "output_type": "execute_result"
    }
   ],
   "source": [
    "#Income group\n",
    "df_cop_merged.groupby('income_flag').agg({'order_day_of_week':['mean'], 'order_hour_of_day':['mean'], 'days_since_prior_order':['min', 'max', 'mean'], 'prices':['min', 'max', 'mean']})"
   ]
  },
  {
   "cell_type": "code",
   "execution_count": 121,
   "id": "a5526f87",
   "metadata": {},
   "outputs": [
    {
     "data": {
      "text/html": [
       "<div>\n",
       "<style scoped>\n",
       "    .dataframe tbody tr th:only-of-type {\n",
       "        vertical-align: middle;\n",
       "    }\n",
       "\n",
       "    .dataframe tbody tr th {\n",
       "        vertical-align: top;\n",
       "    }\n",
       "\n",
       "    .dataframe thead tr th {\n",
       "        text-align: left;\n",
       "    }\n",
       "\n",
       "    .dataframe thead tr:last-of-type th {\n",
       "        text-align: right;\n",
       "    }\n",
       "</style>\n",
       "<table border=\"1\" class=\"dataframe\">\n",
       "  <thead>\n",
       "    <tr>\n",
       "      <th></th>\n",
       "      <th>order_day_of_week</th>\n",
       "      <th>order_hour_of_day</th>\n",
       "      <th colspan=\"3\" halign=\"left\">days_since_prior_order</th>\n",
       "      <th colspan=\"3\" halign=\"left\">prices</th>\n",
       "    </tr>\n",
       "    <tr>\n",
       "      <th></th>\n",
       "      <th>mean</th>\n",
       "      <th>mean</th>\n",
       "      <th>min</th>\n",
       "      <th>max</th>\n",
       "      <th>mean</th>\n",
       "      <th>min</th>\n",
       "      <th>max</th>\n",
       "      <th>mean</th>\n",
       "    </tr>\n",
       "    <tr>\n",
       "      <th>dependants_flag</th>\n",
       "      <th></th>\n",
       "      <th></th>\n",
       "      <th></th>\n",
       "      <th></th>\n",
       "      <th></th>\n",
       "      <th></th>\n",
       "      <th></th>\n",
       "      <th></th>\n",
       "    </tr>\n",
       "  </thead>\n",
       "  <tbody>\n",
       "    <tr>\n",
       "      <th>Dependants</th>\n",
       "      <td>2.740545</td>\n",
       "      <td>13.422517</td>\n",
       "      <td>0.0</td>\n",
       "      <td>30.0</td>\n",
       "      <td>11.111834</td>\n",
       "      <td>1.0</td>\n",
       "      <td>25.0</td>\n",
       "      <td>7.791334</td>\n",
       "    </tr>\n",
       "    <tr>\n",
       "      <th>No dependants</th>\n",
       "      <td>2.733830</td>\n",
       "      <td>13.433048</td>\n",
       "      <td>0.0</td>\n",
       "      <td>30.0</td>\n",
       "      <td>11.080805</td>\n",
       "      <td>1.0</td>\n",
       "      <td>25.0</td>\n",
       "      <td>7.789975</td>\n",
       "    </tr>\n",
       "  </tbody>\n",
       "</table>\n",
       "</div>"
      ],
      "text/plain": [
       "                order_day_of_week order_hour_of_day days_since_prior_order  \\\n",
       "                             mean              mean                    min   \n",
       "dependants_flag                                                              \n",
       "Dependants               2.740545         13.422517                    0.0   \n",
       "No dependants            2.733830         13.433048                    0.0   \n",
       "\n",
       "                                 prices                  \n",
       "                  max       mean    min   max      mean  \n",
       "dependants_flag                                          \n",
       "Dependants       30.0  11.111834    1.0  25.0  7.791334  \n",
       "No dependants    30.0  11.080805    1.0  25.0  7.789975  "
      ]
     },
     "execution_count": 121,
     "metadata": {},
     "output_type": "execute_result"
    }
   ],
   "source": [
    "#Dependants Aggregrates\n",
    "df_cop_merged.groupby('dependants_flag').agg({'order_day_of_week':['mean'], 'order_hour_of_day':['mean'], 'days_since_prior_order':['min', 'max', 'mean'], 'prices':['min', 'max', 'mean']})"
   ]
  },
  {
   "cell_type": "code",
   "execution_count": 123,
   "id": "4fded6a6",
   "metadata": {},
   "outputs": [
    {
     "data": {
      "text/html": [
       "<div>\n",
       "<style scoped>\n",
       "    .dataframe tbody tr th:only-of-type {\n",
       "        vertical-align: middle;\n",
       "    }\n",
       "\n",
       "    .dataframe tbody tr th {\n",
       "        vertical-align: top;\n",
       "    }\n",
       "\n",
       "    .dataframe thead tr th {\n",
       "        text-align: left;\n",
       "    }\n",
       "\n",
       "    .dataframe thead tr:last-of-type th {\n",
       "        text-align: right;\n",
       "    }\n",
       "</style>\n",
       "<table border=\"1\" class=\"dataframe\">\n",
       "  <thead>\n",
       "    <tr>\n",
       "      <th></th>\n",
       "      <th>order_day_of_week</th>\n",
       "      <th>order_hour_of_day</th>\n",
       "      <th colspan=\"3\" halign=\"left\">days_since_prior_order</th>\n",
       "      <th colspan=\"3\" halign=\"left\">prices</th>\n",
       "    </tr>\n",
       "    <tr>\n",
       "      <th></th>\n",
       "      <th>median</th>\n",
       "      <th>median</th>\n",
       "      <th>min</th>\n",
       "      <th>max</th>\n",
       "      <th>mean</th>\n",
       "      <th>min</th>\n",
       "      <th>max</th>\n",
       "      <th>mean</th>\n",
       "    </tr>\n",
       "    <tr>\n",
       "      <th>department</th>\n",
       "      <th></th>\n",
       "      <th></th>\n",
       "      <th></th>\n",
       "      <th></th>\n",
       "      <th></th>\n",
       "      <th></th>\n",
       "      <th></th>\n",
       "      <th></th>\n",
       "    </tr>\n",
       "  </thead>\n",
       "  <tbody>\n",
       "    <tr>\n",
       "      <th>alcohol</th>\n",
       "      <td>3.0</td>\n",
       "      <td>14.0</td>\n",
       "      <td>0.0</td>\n",
       "      <td>30.0</td>\n",
       "      <td>10.340887</td>\n",
       "      <td>1.0</td>\n",
       "      <td>15.0</td>\n",
       "      <td>8.143701</td>\n",
       "    </tr>\n",
       "    <tr>\n",
       "      <th>babies</th>\n",
       "      <td>3.0</td>\n",
       "      <td>13.0</td>\n",
       "      <td>0.0</td>\n",
       "      <td>30.0</td>\n",
       "      <td>10.004465</td>\n",
       "      <td>1.0</td>\n",
       "      <td>15.0</td>\n",
       "      <td>7.638380</td>\n",
       "    </tr>\n",
       "    <tr>\n",
       "      <th>bakery</th>\n",
       "      <td>3.0</td>\n",
       "      <td>13.0</td>\n",
       "      <td>0.0</td>\n",
       "      <td>30.0</td>\n",
       "      <td>11.097613</td>\n",
       "      <td>1.0</td>\n",
       "      <td>15.0</td>\n",
       "      <td>7.853809</td>\n",
       "    </tr>\n",
       "    <tr>\n",
       "      <th>beverages</th>\n",
       "      <td>3.0</td>\n",
       "      <td>13.0</td>\n",
       "      <td>0.0</td>\n",
       "      <td>30.0</td>\n",
       "      <td>11.053389</td>\n",
       "      <td>1.0</td>\n",
       "      <td>15.0</td>\n",
       "      <td>7.680502</td>\n",
       "    </tr>\n",
       "    <tr>\n",
       "      <th>breakfast</th>\n",
       "      <td>3.0</td>\n",
       "      <td>13.0</td>\n",
       "      <td>0.0</td>\n",
       "      <td>30.0</td>\n",
       "      <td>11.296101</td>\n",
       "      <td>1.0</td>\n",
       "      <td>14.9</td>\n",
       "      <td>8.028963</td>\n",
       "    </tr>\n",
       "    <tr>\n",
       "      <th>bulk</th>\n",
       "      <td>3.0</td>\n",
       "      <td>13.0</td>\n",
       "      <td>0.0</td>\n",
       "      <td>30.0</td>\n",
       "      <td>10.104230</td>\n",
       "      <td>1.4</td>\n",
       "      <td>14.1</td>\n",
       "      <td>8.348960</td>\n",
       "    </tr>\n",
       "    <tr>\n",
       "      <th>canned goods</th>\n",
       "      <td>2.0</td>\n",
       "      <td>13.0</td>\n",
       "      <td>0.0</td>\n",
       "      <td>30.0</td>\n",
       "      <td>11.656079</td>\n",
       "      <td>1.0</td>\n",
       "      <td>15.0</td>\n",
       "      <td>7.539976</td>\n",
       "    </tr>\n",
       "    <tr>\n",
       "      <th>dairy eggs</th>\n",
       "      <td>3.0</td>\n",
       "      <td>13.0</td>\n",
       "      <td>0.0</td>\n",
       "      <td>30.0</td>\n",
       "      <td>10.986054</td>\n",
       "      <td>1.0</td>\n",
       "      <td>15.0</td>\n",
       "      <td>8.335056</td>\n",
       "    </tr>\n",
       "    <tr>\n",
       "      <th>deli</th>\n",
       "      <td>2.0</td>\n",
       "      <td>13.0</td>\n",
       "      <td>0.0</td>\n",
       "      <td>30.0</td>\n",
       "      <td>11.345655</td>\n",
       "      <td>1.0</td>\n",
       "      <td>15.0</td>\n",
       "      <td>7.778701</td>\n",
       "    </tr>\n",
       "    <tr>\n",
       "      <th>dry goods pasta</th>\n",
       "      <td>2.0</td>\n",
       "      <td>13.0</td>\n",
       "      <td>0.0</td>\n",
       "      <td>30.0</td>\n",
       "      <td>11.774450</td>\n",
       "      <td>1.0</td>\n",
       "      <td>15.0</td>\n",
       "      <td>7.350283</td>\n",
       "    </tr>\n",
       "    <tr>\n",
       "      <th>frozen</th>\n",
       "      <td>3.0</td>\n",
       "      <td>14.0</td>\n",
       "      <td>0.0</td>\n",
       "      <td>30.0</td>\n",
       "      <td>11.730829</td>\n",
       "      <td>1.0</td>\n",
       "      <td>15.0</td>\n",
       "      <td>7.736553</td>\n",
       "    </tr>\n",
       "    <tr>\n",
       "      <th>household</th>\n",
       "      <td>3.0</td>\n",
       "      <td>13.0</td>\n",
       "      <td>0.0</td>\n",
       "      <td>30.0</td>\n",
       "      <td>11.996490</td>\n",
       "      <td>1.0</td>\n",
       "      <td>15.0</td>\n",
       "      <td>7.384058</td>\n",
       "    </tr>\n",
       "    <tr>\n",
       "      <th>international</th>\n",
       "      <td>2.0</td>\n",
       "      <td>13.0</td>\n",
       "      <td>0.0</td>\n",
       "      <td>30.0</td>\n",
       "      <td>11.291251</td>\n",
       "      <td>1.0</td>\n",
       "      <td>15.0</td>\n",
       "      <td>7.682264</td>\n",
       "    </tr>\n",
       "    <tr>\n",
       "      <th>meat seafood</th>\n",
       "      <td>2.0</td>\n",
       "      <td>13.0</td>\n",
       "      <td>0.0</td>\n",
       "      <td>30.0</td>\n",
       "      <td>11.432021</td>\n",
       "      <td>8.0</td>\n",
       "      <td>25.0</td>\n",
       "      <td>16.294443</td>\n",
       "    </tr>\n",
       "    <tr>\n",
       "      <th>missing</th>\n",
       "      <td>3.0</td>\n",
       "      <td>13.0</td>\n",
       "      <td>0.0</td>\n",
       "      <td>30.0</td>\n",
       "      <td>10.218559</td>\n",
       "      <td>1.0</td>\n",
       "      <td>15.0</td>\n",
       "      <td>8.660716</td>\n",
       "    </tr>\n",
       "    <tr>\n",
       "      <th>other</th>\n",
       "      <td>3.0</td>\n",
       "      <td>13.0</td>\n",
       "      <td>0.0</td>\n",
       "      <td>30.0</td>\n",
       "      <td>10.952867</td>\n",
       "      <td>1.1</td>\n",
       "      <td>15.0</td>\n",
       "      <td>6.990934</td>\n",
       "    </tr>\n",
       "    <tr>\n",
       "      <th>pantry</th>\n",
       "      <td>3.0</td>\n",
       "      <td>13.0</td>\n",
       "      <td>0.0</td>\n",
       "      <td>30.0</td>\n",
       "      <td>11.163256</td>\n",
       "      <td>1.0</td>\n",
       "      <td>20.0</td>\n",
       "      <td>8.009443</td>\n",
       "    </tr>\n",
       "    <tr>\n",
       "      <th>personal care</th>\n",
       "      <td>3.0</td>\n",
       "      <td>13.0</td>\n",
       "      <td>0.0</td>\n",
       "      <td>30.0</td>\n",
       "      <td>11.593145</td>\n",
       "      <td>1.0</td>\n",
       "      <td>15.0</td>\n",
       "      <td>7.996769</td>\n",
       "    </tr>\n",
       "    <tr>\n",
       "      <th>pets</th>\n",
       "      <td>3.0</td>\n",
       "      <td>14.0</td>\n",
       "      <td>0.0</td>\n",
       "      <td>30.0</td>\n",
       "      <td>11.867322</td>\n",
       "      <td>1.0</td>\n",
       "      <td>15.0</td>\n",
       "      <td>7.889070</td>\n",
       "    </tr>\n",
       "    <tr>\n",
       "      <th>produce</th>\n",
       "      <td>2.0</td>\n",
       "      <td>13.0</td>\n",
       "      <td>0.0</td>\n",
       "      <td>30.0</td>\n",
       "      <td>10.856212</td>\n",
       "      <td>1.0</td>\n",
       "      <td>15.0</td>\n",
       "      <td>7.981708</td>\n",
       "    </tr>\n",
       "    <tr>\n",
       "      <th>snacks</th>\n",
       "      <td>3.0</td>\n",
       "      <td>13.0</td>\n",
       "      <td>0.0</td>\n",
       "      <td>30.0</td>\n",
       "      <td>10.947879</td>\n",
       "      <td>1.6</td>\n",
       "      <td>7.0</td>\n",
       "      <td>4.275437</td>\n",
       "    </tr>\n",
       "  </tbody>\n",
       "</table>\n",
       "</div>"
      ],
      "text/plain": [
       "                order_day_of_week order_hour_of_day days_since_prior_order  \\\n",
       "                           median            median                    min   \n",
       "department                                                                   \n",
       "alcohol                       3.0              14.0                    0.0   \n",
       "babies                        3.0              13.0                    0.0   \n",
       "bakery                        3.0              13.0                    0.0   \n",
       "beverages                     3.0              13.0                    0.0   \n",
       "breakfast                     3.0              13.0                    0.0   \n",
       "bulk                          3.0              13.0                    0.0   \n",
       "canned goods                  2.0              13.0                    0.0   \n",
       "dairy eggs                    3.0              13.0                    0.0   \n",
       "deli                          2.0              13.0                    0.0   \n",
       "dry goods pasta               2.0              13.0                    0.0   \n",
       "frozen                        3.0              14.0                    0.0   \n",
       "household                     3.0              13.0                    0.0   \n",
       "international                 2.0              13.0                    0.0   \n",
       "meat seafood                  2.0              13.0                    0.0   \n",
       "missing                       3.0              13.0                    0.0   \n",
       "other                         3.0              13.0                    0.0   \n",
       "pantry                        3.0              13.0                    0.0   \n",
       "personal care                 3.0              13.0                    0.0   \n",
       "pets                          3.0              14.0                    0.0   \n",
       "produce                       2.0              13.0                    0.0   \n",
       "snacks                        3.0              13.0                    0.0   \n",
       "\n",
       "                                 prices                   \n",
       "                  max       mean    min   max       mean  \n",
       "department                                                \n",
       "alcohol          30.0  10.340887    1.0  15.0   8.143701  \n",
       "babies           30.0  10.004465    1.0  15.0   7.638380  \n",
       "bakery           30.0  11.097613    1.0  15.0   7.853809  \n",
       "beverages        30.0  11.053389    1.0  15.0   7.680502  \n",
       "breakfast        30.0  11.296101    1.0  14.9   8.028963  \n",
       "bulk             30.0  10.104230    1.4  14.1   8.348960  \n",
       "canned goods     30.0  11.656079    1.0  15.0   7.539976  \n",
       "dairy eggs       30.0  10.986054    1.0  15.0   8.335056  \n",
       "deli             30.0  11.345655    1.0  15.0   7.778701  \n",
       "dry goods pasta  30.0  11.774450    1.0  15.0   7.350283  \n",
       "frozen           30.0  11.730829    1.0  15.0   7.736553  \n",
       "household        30.0  11.996490    1.0  15.0   7.384058  \n",
       "international    30.0  11.291251    1.0  15.0   7.682264  \n",
       "meat seafood     30.0  11.432021    8.0  25.0  16.294443  \n",
       "missing          30.0  10.218559    1.0  15.0   8.660716  \n",
       "other            30.0  10.952867    1.1  15.0   6.990934  \n",
       "pantry           30.0  11.163256    1.0  20.0   8.009443  \n",
       "personal care    30.0  11.593145    1.0  15.0   7.996769  \n",
       "pets             30.0  11.867322    1.0  15.0   7.889070  \n",
       "produce          30.0  10.856212    1.0  15.0   7.981708  \n",
       "snacks           30.0  10.947879    1.6   7.0   4.275437  "
      ]
     },
     "execution_count": 123,
     "metadata": {},
     "output_type": "execute_result"
    }
   ],
   "source": [
    "#Department Aggregrates\n",
    "df_cop_merged.groupby('department').agg({'order_day_of_week':['median'], 'order_hour_of_day':['median'], 'days_since_prior_order':['min', 'max', 'mean'], 'prices':['min', 'max', 'mean']})"
   ]
  },
  {
   "cell_type": "markdown",
   "id": "c5a9a127",
   "metadata": {},
   "source": [
    "## 8.0 Comparision of Regions with Age and Departments"
   ]
  },
  {
   "cell_type": "markdown",
   "id": "54ec4be8",
   "metadata": {},
   "source": [
    "### 8.1 Age Group"
   ]
  },
  {
   "cell_type": "code",
   "execution_count": 124,
   "id": "c694e418",
   "metadata": {},
   "outputs": [],
   "source": [
    "# Creating a crosstab between age and region\n",
    "age_and_region=pd.crosstab(df_cop_merged['region'],df_cop_merged['age_group'],dropna=False)"
   ]
  },
  {
   "cell_type": "code",
   "execution_count": 125,
   "id": "a735ebf5",
   "metadata": {},
   "outputs": [
    {
     "data": {
      "image/png": "[encoded data removed]",
      "text/plain": [
       "<Figure size 640x480 with 1 Axes>"
      ]
     },
     "metadata": {},
     "output_type": "display_data"
    }
   ],
   "source": [
    "#Create bar chart of cross tab\n",
    "bar_age_and_region=age_and_region.plot.bar(title='Customers per Region by Age Group', color=sns.color_palette('Greens',3))"
   ]
  },
  {
   "cell_type": "code",
   "execution_count": 128,
   "id": "a8795729",
   "metadata": {},
   "outputs": [],
   "source": [
    "#Save visualization\n",
    "bar_age_and_region.figure.savefig(os.path.join(project_path, '04 Analysis','04 03 Visualizations', 'bar_age_and_region.png'))"
   ]
  },
  {
   "cell_type": "code",
   "execution_count": 126,
   "id": "a7779c0c",
   "metadata": {},
   "outputs": [],
   "source": [
    "#Creating a crosstab between age and department\n",
    "age_and_dept=pd.crosstab(df_cop_merged['department'],df_cop_merged['age_group'],dropna=False)"
   ]
  },
  {
   "cell_type": "code",
   "execution_count": 127,
   "id": "7467687e",
   "metadata": {},
   "outputs": [
    {
     "data": {
      "image/png": "[encoded data removed]",
      "text/plain": [
       "<Figure size 640x480 with 1 Axes>"
      ]
     },
     "metadata": {},
     "output_type": "display_data"
    }
   ],
   "source": [
    "#Create bar chart of cross tab\n",
    "bar_age_and_dept=age_and_dept.plot.bar(title='Purchases per Department by Age Group', color=sns.color_palette('Greens',3))"
   ]
  },
  {
   "cell_type": "code",
   "execution_count": 129,
   "id": "18dd9ed9",
   "metadata": {},
   "outputs": [],
   "source": [
    "#Save visualization\n",
    "bar_age_and_dept.figure.savefig(os.path.join(project_path, '04 Analysis','04 03 Visualizations', 'bar_age_dept.png'))"
   ]
  },
  {
   "cell_type": "markdown",
   "id": "3b86b749",
   "metadata": {},
   "source": [
    "### 8.2 Income Group"
   ]
  },
  {
   "cell_type": "code",
   "execution_count": 132,
   "id": "f26d1c98",
   "metadata": {},
   "outputs": [],
   "source": [
    "#Creating a crosstab between income and region\n",
    "income_region=pd.crosstab(df_cop_merged['region'],df_cop_merged['income_flag'],dropna=False)"
   ]
  },
  {
   "cell_type": "code",
   "execution_count": 136,
   "id": "68a70dc8",
   "metadata": {},
   "outputs": [
    {
     "data": {
      "image/png": "[encoded data removed]",
      "text/plain": [
       "<Figure size 640x480 with 1 Axes>"
      ]
     },
     "metadata": {},
     "output_type": "display_data"
    }
   ],
   "source": [
    "#Create bar chart of cross tab\n",
    "bar_income_region=income_region.plot.bar(stacked=True, title='Profile of Income and Region ', color=sns.color_palette('Greens',3))"
   ]
  },
  {
   "cell_type": "code",
   "execution_count": 138,
   "id": "db0d5a02",
   "metadata": {},
   "outputs": [],
   "source": [
    "#Save visualization\n",
    "bar_income_region.figure.savefig(os.path.join(project_path, '04 Analysis','04 03 Visualizations', 'bar_income_region.png'))"
   ]
  },
  {
   "cell_type": "code",
   "execution_count": 139,
   "id": "a6f1b44e",
   "metadata": {},
   "outputs": [],
   "source": [
    "#Creating a crosstab between income and department\n",
    "income_dept=pd.crosstab(df_cop_merged['department'],df_cop_merged['income_flag'],dropna=False)"
   ]
  },
  {
   "cell_type": "code",
   "execution_count": 141,
   "id": "561ad986",
   "metadata": {},
   "outputs": [
    {
     "data": {
      "image/png": "[encoded data removed]",
      "text/plain": [
       "<Figure size 640x480 with 1 Axes>"
      ]
     },
     "metadata": {},
     "output_type": "display_data"
    }
   ],
   "source": [
    "#Create bar chart of cross tab\n",
    "bar_income_dept=income_dept.plot.bar(stacked=True, title='Profile of Income and Department ', color=sns.color_palette('Greens',3))"
   ]
  },
  {
   "cell_type": "code",
   "execution_count": 1,
   "id": "e64f0fc0",
   "metadata": {},
   "outputs": [
    {
     "ename": "NameError",
     "evalue": "name 'bar_income_dept' is not defined",
     "output_type": "error",
     "traceback": [
      "\u001b[1;31m---------------------------------------------------------------------------\u001b[0m",
      "\u001b[1;31mNameError\u001b[0m                                 Traceback (most recent call last)",
      "Cell \u001b[1;32mIn[1], line 2\u001b[0m\n\u001b[0;32m      1\u001b[0m \u001b[38;5;66;03m#Save visualization\u001b[39;00m\n\u001b[1;32m----> 2\u001b[0m \u001b[43mbar_income_dept\u001b[49m\u001b[38;5;241m.\u001b[39mfigure\u001b[38;5;241m.\u001b[39msavefig(os\u001b[38;5;241m.\u001b[39mpath\u001b[38;5;241m.\u001b[39mjoin(project_path, \u001b[38;5;124m'\u001b[39m\u001b[38;5;124m04 Analysis\u001b[39m\u001b[38;5;124m'\u001b[39m,\u001b[38;5;124m'\u001b[39m\u001b[38;5;124m04 03 Visualizations\u001b[39m\u001b[38;5;124m'\u001b[39m, \u001b[38;5;124m'\u001b[39m\u001b[38;5;124mbar_income_dept.png\u001b[39m\u001b[38;5;124m'\u001b[39m))\n",
      "\u001b[1;31mNameError\u001b[0m: name 'bar_income_dept' is not defined"
     ]
    }
   ],
   "source": [
    "#Save visualization\n",
    "bar_income_dept.figure.savefig(os.path.join(project_path, '04 Analysis','04 03 Visualizations', 'bar_income_dept.png'))"
   ]
  },
  {
   "cell_type": "markdown",
   "id": "189dd487",
   "metadata": {},
   "source": [
    "### 8.3 Number of Dependants"
   ]
  },
  {
   "cell_type": "code",
   "execution_count": 143,
   "id": "bafdec8b",
   "metadata": {},
   "outputs": [],
   "source": [
    "#Creating a crosstab\n",
    "depen_region=pd.crosstab(df_cop_merged['region'],df_cop_merged['dependants_flag'],dropna=False)"
   ]
  },
  {
   "cell_type": "code",
   "execution_count": 145,
   "id": "ee2f48fa",
   "metadata": {},
   "outputs": [
    {
     "data": {
      "image/png": "[encoded data removed]",
      "text/plain": [
       "<Figure size 640x480 with 1 Axes>"
      ]
     },
     "metadata": {},
     "output_type": "display_data"
    }
   ],
   "source": [
    "#Create bar chart of cross tab\n",
    "bar_depen_region=depen_region.plot.bar(title='Profile of Dependants and Region', color=sns.color_palette('Greens',3))"
   ]
  },
  {
   "cell_type": "code",
   "execution_count": 146,
   "id": "a54a55dd",
   "metadata": {},
   "outputs": [],
   "source": [
    "#Save visualization\n",
    "bar_depen_region.figure.savefig(os.path.join(project_path, '04 Analysis','04 03 Visualizations', 'bar_depen_region.png'))"
   ]
  },
  {
   "cell_type": "code",
   "execution_count": 147,
   "id": "0c3db5c4",
   "metadata": {},
   "outputs": [],
   "source": [
    "#Creating a crosstab\n",
    "depen_depart=pd.crosstab(df_cop_merged['department'],df_cop_merged['dependants_flag'],dropna=False)"
   ]
  },
  {
   "cell_type": "code",
   "execution_count": 149,
   "id": "9b2b785f",
   "metadata": {},
   "outputs": [
    {
     "data": {
      "image/png": "[encoded data removed]",
      "text/plain": [
       "<Figure size 640x480 with 1 Axes>"
      ]
     },
     "metadata": {},
     "output_type": "display_data"
    }
   ],
   "source": [
    "#Create bar chart of cross tab\n",
    "bar_depen_depart=depen_depart.plot.bar(stacked=True,title='Profile of Dependants and Departments', color=sns.color_palette('Greens',3))"
   ]
  },
  {
   "cell_type": "code",
   "execution_count": 150,
   "id": "d3cd4f52",
   "metadata": {},
   "outputs": [],
   "source": [
    "#Save visualization\n",
    "bar_depen_depart.figure.savefig(os.path.join(project_path, '04 Analysis','04 03 Visualizations', 'bar_depen_depart.png'))"
   ]
  },
  {
   "cell_type": "markdown",
   "id": "c9421c61",
   "metadata": {},
   "source": [
    "## 5.0 Export Data"
   ]
  },
  {
   "cell_type": "code",
   "execution_count": 152,
   "id": "082ee3c6",
   "metadata": {},
   "outputs": [],
   "source": [
    "#Export active users pkl\n",
    "df_users.to_pickle(os.path.join(project_path, '02 Data', '02 02 Prepared Data', 'active_users.pkl'))"
   ]
  },
  {
   "cell_type": "code",
   "execution_count": 154,
   "id": "ce9f5092",
   "metadata": {},
   "outputs": [],
   "source": [
    "#Export updated dataframe as a pickle\n",
    "df_cop_merged.to_pickle(os.path.join(project_path,'02 Data', '02 02 Prepared Data', 'final.pkl'))"
   ]
  },
  {
   "cell_type": "code",
   "execution_count": null,
   "id": "dd4e38fe",
   "metadata": {},
   "outputs": [],
   "source": [
    "\n"
   ]
  }
 ],
 "metadata": {
  "kernelspec": {
   "display_name": "Python 3 (ipykernel)",
   "language": "python",
   "name": "python3"
  },
  "language_info": {
   "codemirror_mode": {
    "name": "ipython",
    "version": 3
   },
   "file_extension": ".py",
   "mimetype": "text/x-python",
   "name": "python",
   "nbconvert_exporter": "python",
   "pygments_lexer": "ipython3",
   "version": "3.10.9"
  }
 },
 "nbformat": 4,
 "nbformat_minor": 5
}
